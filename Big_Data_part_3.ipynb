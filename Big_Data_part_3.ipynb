{
  "nbformat": 4,
  "nbformat_minor": 0,
  "metadata": {
    "colab": {
      "provenance": []
    },
    "kernelspec": {
      "name": "ir",
      "display_name": "R"
    },
    "language_info": {
      "name": "R"
    }
  },
  "cells": [
    {
      "cell_type": "markdown",
      "source": [
        "##**Лабораторна робота 3: Вибiр моделi, розширення та дiагностика**"
      ],
      "metadata": {
        "id": "nfu-GSXKpZ5v"
      }
    },
    {
      "cell_type": "markdown",
      "source": [
        "**Мета**\n",
        "\n",
        "Метою цiєї лабораторiї є дослiдження методiв розширеного вибору моделей, надiйної дiагностики,\n",
        "нелiнiйних перетворень та ефектiв взаємодiї."
      ],
      "metadata": {
        "id": "sJRE4yzqqjxQ"
      }
    },
    {
      "cell_type": "markdown",
      "source": [
        "Команда 7: Анастасія Бурдим, Вікторія Шевченко,  Марія Вербицька\n",
        "\n",
        "[**Датасет ви знайдете тут**](https://www.kaggle.com/datasets/yasserh/song-popularity-dataset/discussion?sort=hotness)\n",
        "\n",
        "**Song Popularity Analysis**\n",
        "13 незалежних змінних, залежна змінна – **audio valence**"
      ],
      "metadata": {
        "id": "bp-7k8K8qLeL"
      }
    },
    {
      "cell_type": "code",
      "source": [
        "url <- \"https://raw.githubusercontent.com/mverbytska/song-data-project/refs/heads/main/df_songs.csv\"\n",
        "df <- read.csv(url)"
      ],
      "metadata": {
        "id": "AqTXWLpHXBI7"
      },
      "execution_count": null,
      "outputs": []
    },
    {
      "cell_type": "code",
      "source": [
        "head(df)"
      ],
      "metadata": {
        "colab": {
          "base_uri": "https://localhost:8080/",
          "height": 306
        },
        "id": "yclokX3IX5uk",
        "outputId": "7de81306-45c1-4f17-a31b-fa105f14aacc"
      },
      "execution_count": null,
      "outputs": [
        {
          "output_type": "display_data",
          "data": {
            "text/html": [
              "<table class=\"dataframe\">\n",
              "<caption>A data.frame: 6 × 14</caption>\n",
              "<thead>\n",
              "\t<tr><th></th><th scope=col>song_popularity</th><th scope=col>song_duration_ms</th><th scope=col>acousticness</th><th scope=col>danceability</th><th scope=col>energy</th><th scope=col>instrumentalness</th><th scope=col>key</th><th scope=col>liveness</th><th scope=col>loudness</th><th scope=col>audio_mode</th><th scope=col>speechiness</th><th scope=col>tempo</th><th scope=col>time_signature</th><th scope=col>audio_valence</th></tr>\n",
              "\t<tr><th></th><th scope=col>&lt;int&gt;</th><th scope=col>&lt;dbl&gt;</th><th scope=col>&lt;dbl&gt;</th><th scope=col>&lt;dbl&gt;</th><th scope=col>&lt;dbl&gt;</th><th scope=col>&lt;dbl&gt;</th><th scope=col>&lt;int&gt;</th><th scope=col>&lt;dbl&gt;</th><th scope=col>&lt;dbl&gt;</th><th scope=col>&lt;int&gt;</th><th scope=col>&lt;dbl&gt;</th><th scope=col>&lt;dbl&gt;</th><th scope=col>&lt;int&gt;</th><th scope=col>&lt;dbl&gt;</th></tr>\n",
              "</thead>\n",
              "<tbody>\n",
              "\t<tr><th scope=row>1</th><td>45</td><td>297986</td><td>0.50100</td><td>0.484</td><td>0.381</td><td>0.000000</td><td> 6</td><td>0.114</td><td>-13.232</td><td>1</td><td>0.0361</td><td>144.939</td><td>4</td><td>0.409</td></tr>\n",
              "\t<tr><th scope=row>2</th><td>57</td><td>205452</td><td>0.58700</td><td>0.711</td><td>0.702</td><td>0.000080</td><td>11</td><td>0.186</td><td> -6.677</td><td>1</td><td>0.1540</td><td> 74.023</td><td>4</td><td>0.861</td></tr>\n",
              "\t<tr><th scope=row>3</th><td>41</td><td>273113</td><td>0.69400</td><td>0.933</td><td>0.462</td><td>0.000126</td><td> 4</td><td>0.103</td><td> -9.671</td><td>1</td><td>0.1270</td><td>130.086</td><td>4</td><td>0.942</td></tr>\n",
              "\t<tr><th scope=row>4</th><td>40</td><td>175694</td><td>0.15800</td><td>0.817</td><td>0.753</td><td>0.000000</td><td> 8</td><td>0.103</td><td> -4.977</td><td>1</td><td>0.2500</td><td>112.978</td><td>4</td><td>0.517</td></tr>\n",
              "\t<tr><th scope=row>5</th><td>69</td><td>202721</td><td>0.93800</td><td>0.665</td><td>0.287</td><td>0.149000</td><td> 8</td><td>0.103</td><td>-14.923</td><td>1</td><td>0.0400</td><td>133.924</td><td>4</td><td>0.386</td></tr>\n",
              "\t<tr><th scope=row>6</th><td>48</td><td>162613</td><td>0.00407</td><td>0.694</td><td>0.603</td><td>0.030800</td><td> 1</td><td>0.116</td><td> -8.190</td><td>1</td><td>0.0523</td><td>170.028</td><td>4</td><td>0.654</td></tr>\n",
              "</tbody>\n",
              "</table>\n"
            ],
            "text/markdown": "\nA data.frame: 6 × 14\n\n| <!--/--> | song_popularity &lt;int&gt; | song_duration_ms &lt;dbl&gt; | acousticness &lt;dbl&gt; | danceability &lt;dbl&gt; | energy &lt;dbl&gt; | instrumentalness &lt;dbl&gt; | key &lt;int&gt; | liveness &lt;dbl&gt; | loudness &lt;dbl&gt; | audio_mode &lt;int&gt; | speechiness &lt;dbl&gt; | tempo &lt;dbl&gt; | time_signature &lt;int&gt; | audio_valence &lt;dbl&gt; |\n|---|---|---|---|---|---|---|---|---|---|---|---|---|---|---|\n| 1 | 45 | 297986 | 0.50100 | 0.484 | 0.381 | 0.000000 |  6 | 0.114 | -13.232 | 1 | 0.0361 | 144.939 | 4 | 0.409 |\n| 2 | 57 | 205452 | 0.58700 | 0.711 | 0.702 | 0.000080 | 11 | 0.186 |  -6.677 | 1 | 0.1540 |  74.023 | 4 | 0.861 |\n| 3 | 41 | 273113 | 0.69400 | 0.933 | 0.462 | 0.000126 |  4 | 0.103 |  -9.671 | 1 | 0.1270 | 130.086 | 4 | 0.942 |\n| 4 | 40 | 175694 | 0.15800 | 0.817 | 0.753 | 0.000000 |  8 | 0.103 |  -4.977 | 1 | 0.2500 | 112.978 | 4 | 0.517 |\n| 5 | 69 | 202721 | 0.93800 | 0.665 | 0.287 | 0.149000 |  8 | 0.103 | -14.923 | 1 | 0.0400 | 133.924 | 4 | 0.386 |\n| 6 | 48 | 162613 | 0.00407 | 0.694 | 0.603 | 0.030800 |  1 | 0.116 |  -8.190 | 1 | 0.0523 | 170.028 | 4 | 0.654 |\n\n",
            "text/latex": "A data.frame: 6 × 14\n\\begin{tabular}{r|llllllllllllll}\n  & song\\_popularity & song\\_duration\\_ms & acousticness & danceability & energy & instrumentalness & key & liveness & loudness & audio\\_mode & speechiness & tempo & time\\_signature & audio\\_valence\\\\\n  & <int> & <dbl> & <dbl> & <dbl> & <dbl> & <dbl> & <int> & <dbl> & <dbl> & <int> & <dbl> & <dbl> & <int> & <dbl>\\\\\n\\hline\n\t1 & 45 & 297986 & 0.50100 & 0.484 & 0.381 & 0.000000 &  6 & 0.114 & -13.232 & 1 & 0.0361 & 144.939 & 4 & 0.409\\\\\n\t2 & 57 & 205452 & 0.58700 & 0.711 & 0.702 & 0.000080 & 11 & 0.186 &  -6.677 & 1 & 0.1540 &  74.023 & 4 & 0.861\\\\\n\t3 & 41 & 273113 & 0.69400 & 0.933 & 0.462 & 0.000126 &  4 & 0.103 &  -9.671 & 1 & 0.1270 & 130.086 & 4 & 0.942\\\\\n\t4 & 40 & 175694 & 0.15800 & 0.817 & 0.753 & 0.000000 &  8 & 0.103 &  -4.977 & 1 & 0.2500 & 112.978 & 4 & 0.517\\\\\n\t5 & 69 & 202721 & 0.93800 & 0.665 & 0.287 & 0.149000 &  8 & 0.103 & -14.923 & 1 & 0.0400 & 133.924 & 4 & 0.386\\\\\n\t6 & 48 & 162613 & 0.00407 & 0.694 & 0.603 & 0.030800 &  1 & 0.116 &  -8.190 & 1 & 0.0523 & 170.028 & 4 & 0.654\\\\\n\\end{tabular}\n",
            "text/plain": [
              "  song_popularity song_duration_ms acousticness danceability energy\n",
              "1 45              297986           0.50100      0.484        0.381 \n",
              "2 57              205452           0.58700      0.711        0.702 \n",
              "3 41              273113           0.69400      0.933        0.462 \n",
              "4 40              175694           0.15800      0.817        0.753 \n",
              "5 69              202721           0.93800      0.665        0.287 \n",
              "6 48              162613           0.00407      0.694        0.603 \n",
              "  instrumentalness key liveness loudness audio_mode speechiness tempo  \n",
              "1 0.000000          6  0.114    -13.232  1          0.0361      144.939\n",
              "2 0.000080         11  0.186     -6.677  1          0.1540       74.023\n",
              "3 0.000126          4  0.103     -9.671  1          0.1270      130.086\n",
              "4 0.000000          8  0.103     -4.977  1          0.2500      112.978\n",
              "5 0.149000          8  0.103    -14.923  1          0.0400      133.924\n",
              "6 0.030800          1  0.116     -8.190  1          0.0523      170.028\n",
              "  time_signature audio_valence\n",
              "1 4              0.409        \n",
              "2 4              0.861        \n",
              "3 4              0.942        \n",
              "4 4              0.517        \n",
              "5 4              0.386        \n",
              "6 4              0.654        "
            ]
          },
          "metadata": {}
        }
      ]
    },
    {
      "cell_type": "markdown",
      "source": [
        "### **0. Попередні оцінки та результати**"
      ],
      "metadata": {
        "id": "o976bIQ7qsyV"
      }
    },
    {
      "cell_type": "markdown",
      "source": [
        "Завантажте та перевiрте набiр даних\n",
        "`summary(data)`"
      ],
      "metadata": {
        "id": "URZsi-Kuq7Ge"
      }
    },
    {
      "cell_type": "code",
      "source": [],
      "metadata": {
        "id": "kQRThUw5pfgr"
      },
      "execution_count": null,
      "outputs": []
    },
    {
      "cell_type": "markdown",
      "source": [
        "Вiзуалiзуйте зв’язки мiж предикторами та залежною змiнною за допомогою дiаграм розсiювання та кореляцiйних матриць:\n",
        "\n",
        "\n",
        "```\n",
        "car::scatterplotMatrix(data, col = 1, regLine = list(col = 2),\n",
        "smooth = list(col.smooth = 4, col.spread = 4))\n",
        "\n",
        "```\n",
        "\n",
        "\n"
      ],
      "metadata": {
        "id": "PyJf8Cfhq8a1"
      }
    },
    {
      "cell_type": "code",
      "source": [],
      "metadata": {
        "id": "cK5KRkKhuoDT"
      },
      "execution_count": null,
      "outputs": []
    },
    {
      "cell_type": "markdown",
      "source": [
        "### **Завдання 1: Вибiр моделi**\n",
        "\n",
        "\n",
        "\n"
      ],
      "metadata": {
        "id": "MKosMo_5utee"
      }
    },
    {
      "cell_type": "markdown",
      "source": [
        "1. Пiдiбрати модель повної множинної лiнiйної регресiї\n",
        "\n",
        "- Побудуйте модель за усiх предикторами `mod <- lm(y ˜ ., data)`.\n",
        "\n",
        "- Оцiнiть придатнiсть моделi за допомогою `summary(mod)`.\n"
      ],
      "metadata": {
        "id": "ZQcsa2kQvNOd"
      }
    },
    {
      "cell_type": "markdown",
      "source": [
        "2. Поетапний вибiр з AIC i BIC\n",
        "- Виконайте покроковий вибiр за допомогою `MASS::stepAIC()` як для AIC, так i для BIC\n",
        "```\n",
        "mod_AIC <- MASS::stepAIC(model, direction = \"both\", k = 2)\n",
        "mod_BIC <- MASS::stepAIC(model, direction = \"both\", k = log(nrow(data)))\n",
        "```\n",
        "\n",
        "\n",
        "\n",
        "\n",
        "\n",
        "\n",
        "\n",
        "\n",
        "\n",
        "\n",
        "\n",
        "\n",
        "\n",
        "\n",
        "\n",
        "\n",
        "\n"
      ],
      "metadata": {
        "id": "NVdy5sGAvPry"
      }
    },
    {
      "cell_type": "markdown",
      "source": [
        "\n",
        "3. Backward, Forward i Both пiдхiд\n",
        "- Використовуйте функцiю stepAIC з рiзними стратегiями вiдбору моделi (backward,\n",
        "forward, both).\n",
        "- Оцiнiть вiдмiнностi в обраних моделях за допомогою: ```car::compareCoefs(mod_AIC,\n",
        "mod_BIC)```\n",
        "- Порiвняйте фiнальнi моделi, якi отриманi рiзними методами."
      ],
      "metadata": {
        "id": "0VxmCvOQvQjO"
      }
    },
    {
      "cell_type": "markdown",
      "source": [
        "4. Оцiнiть продуктивнiсть моделi\n",
        "- Порiвняйте скоригованi R^2\n",
        ", AIC i BIC для рiзних моделей.\n",
        "- Обговорiть спiввiдношення мiж складнiстю моделi та точнiстю прогнозування.\n"
      ],
      "metadata": {
        "id": "uHgUEFgOwNIj"
      }
    },
    {
      "cell_type": "code",
      "source": [],
      "metadata": {
        "id": "HaCJEx8Iu2Hw"
      },
      "execution_count": null,
      "outputs": []
    },
    {
      "cell_type": "markdown",
      "source": [
        "### **Завдання 2: Розширення моделi**"
      ],
      "metadata": {
        "id": "aV5pi3LawxOH"
      }
    },
    {
      "cell_type": "markdown",
      "source": [
        "1. Трансформацiї та пiдгонка моделi\n",
        "- Логарифмiчне перетворення `mod_log <- lm(y ˜ log(x), data)`\n",
        "- Експоненцiальне перетворення `mod_exp <- lm(log(y) ˜ x, data)`\n",
        "- Зворотне перетворення `mod_inv <- lm(y ˜ I(1/x), data)`\n",
        "\n",
        "\n",
        "\n",
        "\n"
      ],
      "metadata": {
        "id": "2U4x0r45w7dK"
      }
    },
    {
      "cell_type": "code",
      "source": [],
      "metadata": {
        "id": "DyVPLPTHxDD3"
      },
      "execution_count": null,
      "outputs": []
    },
    {
      "cell_type": "markdown",
      "source": [
        "2. Полiном та взаємодiя\n",
        "- Моделi полiномiальної регресiї:\n",
        "```\n",
        "mod_poly_1 <- lm(y ~ poly(x, degree = 2), data)\n",
        "summary(mod_poly_1)\n",
        "```\n",
        "- Перевiрка на потенцiйнi нелiнiйнi зв’язки, включивши полiноми.\n",
        "```\n",
        "mod_poly_2 <- lm(Y ~ poly(x1, 2) + poly(x2, 2), data)\n",
        "summary(mod_poly_2)\n",
        "```\n",
        "- Моделi iз взаємодiєю:\n",
        "```\n",
        "mod_interact <- lm(y ~ x1 * x2, data)\n",
        "summary(mod_interact)\n",
        "```\n",
        "\n",
        "\n"
      ],
      "metadata": {
        "id": "Q4qRVyPNxEBq"
      }
    },
    {
      "cell_type": "code",
      "source": [],
      "metadata": {
        "id": "ZRmaSmRxxXuE"
      },
      "execution_count": null,
      "outputs": []
    },
    {
      "cell_type": "markdown",
      "source": [
        "3. Використання якiсних предикторiв (dummy variables).\n",
        "Якщо це можливо, включiть категорiальнi змiннi в модель за допомогою фiктивних змiнних\n",
        "i перевiрте їх вплив.\n",
        "\n",
        "- Перетворiть категорiальнi змiннi у факторнi:\n",
        "`data$category <- as.factor(data$category)`\n",
        "-Взаємодiя мiж неперервною та двiйковою змiнними\n",
        " (я не додала з документу скрін всіх тих змінних і формул)"
      ],
      "metadata": {
        "id": "McQjvFB-x8tK"
      }
    },
    {
      "cell_type": "code",
      "source": [],
      "metadata": {
        "id": "UsYmr0CLyJHl"
      },
      "execution_count": null,
      "outputs": []
    },
    {
      "cell_type": "markdown",
      "source": [
        "### **Завдання 3: Дiагностика моделi**"
      ],
      "metadata": {
        "id": "9wv5gxLeyQEY"
      }
    },
    {
      "cell_type": "markdown",
      "source": [
        "1. Перевiрте припущення лiнiйностi\n",
        "- Створiть графiки залежностi залишкiв та часткових регресiй, використовуючи:\n",
        "```\n",
        "plot (mod, 1)\n",
        "termplot(mod, partial.resid = TRUE)\n",
        "```\n",
        "- Використовуйте адекватнi нелiнiйнi перетворення для проблемних предикторiв або додайте взаємодiї для незалежних змiнних\n"
      ],
      "metadata": {
        "id": "cUSRGgcmy0ej"
      }
    },
    {
      "cell_type": "code",
      "source": [],
      "metadata": {
        "id": "zsyKQL-3ybMR"
      },
      "execution_count": null,
      "outputs": []
    },
    {
      "cell_type": "markdown",
      "source": [
        "2. Перевiрте залишки на нормальнiстьi\n",
        "- Виконайте QQ-plot: `plot(mod, 2)`\n",
        "- Використовуйте тести Шапiро-Вiлка та Лiллiфорса, щоб формально оцiнити нульову\n",
        "гiпотезу нормальностi:\n",
        "```\n",
        "shapiro.test(mod$residuals)\n",
        "nortest::lillie.test(mod$residuals)\n",
        "```\n",
        "- Використайте адекватнi перетворення для Y . Наприклад, Box-Cox або Yeo-Johnson.\n"
      ],
      "metadata": {
        "id": "Fa8xmXl9y9aY"
      }
    },
    {
      "cell_type": "code",
      "source": [],
      "metadata": {
        "id": "NB642wqRzMCc"
      },
      "execution_count": null,
      "outputs": []
    },
    {
      "cell_type": "markdown",
      "source": [
        "3. Перевiрте на гомоскедастичнiсть\n",
        "- Створiть графiк для перевiрки дисперсiй: `plot(mod, 3)`\n",
        "- Використовуйте тест Брейша-Пагана: `car::ncvTest(mod)`\n",
        "- Використовуйте вiдповiднi перетворення для Y. (наприклад, log(Y ),\n",
        "√\n",
        "Y , Box-Cox або\n",
        "Yeo-Johnson)\n"
      ],
      "metadata": {
        "id": "4WiRMTolzNEu"
      }
    },
    {
      "cell_type": "code",
      "source": [],
      "metadata": {
        "id": "E7S1hJwSzglW"
      },
      "execution_count": null,
      "outputs": []
    },
    {
      "cell_type": "markdown",
      "source": [
        "4. Перевiрити незалежнiсть залишкiв\n",
        "- Створiть графiк ряду для залишкiв: `plot(mod$residuals, type = \"o\")`\n",
        "- Створiть графiки з вiдставанням для (ei−ℓ\n",
        ", ei), i = ℓ + 1, . . . , n, використовуючи рiзнi\n",
        "значення для ℓ (наприклад, ℓ = 1, 2, ...):\n",
        "`lag.plot(mod\\$residuals, lags = 1, do.lines = FALSE)`\n",
        "- Використовуйте тест Дарбiна-Ватсона: `car::durbinWatsonTest(mod)`\n",
        "-  Отримайте незалежнiсть для залежної змiної шляхом перетворення Y1, Y2, . . . , Yn у вибiрцi, використовуючи Y1 − Y2, Y2 − Y3, . . . , Yn−1 − Yn.\n",
        "(наприклад, `data$y_diff <- c(diff(data$y), NA)`)\n"
      ],
      "metadata": {
        "id": "LbKGvltRziXf"
      }
    },
    {
      "cell_type": "code",
      "source": [],
      "metadata": {
        "id": "M5mbglh1z1hp"
      },
      "execution_count": null,
      "outputs": []
    },
    {
      "cell_type": "markdown",
      "source": [
        "5. Перевiрка Мультиколiнеарностi\n",
        "- перевiрте кореляцiйну матрицю для незалежних змiнних:\n",
        "```\n",
        "round(cor(data), 2)\n",
        "corrplot::corrplot(cor(data), addCoef.col = \"grey\")\n",
        "```\n",
        "\n",
        "\n",
        "- Перевiрте коефiцiєнт VIF для незалежних змiнних: `car::vif(mod)`\n",
        "-  Видалiть сильно корельованi змiннi.\n"
      ],
      "metadata": {
        "id": "GiuATIATz2iP"
      }
    },
    {
      "cell_type": "markdown",
      "source": [
        "6. Перевiрте outliers та high-leverage точки\n",
        "- Визначте спостереження з високим впливом за допомогою: `plot(mod, which = 5)`\n",
        "- Видалiть будь-якi дуже впливовi елементи та переоцiнiть модель."
      ],
      "metadata": {
        "id": "b881TIjz0pLS"
      }
    },
    {
      "cell_type": "code",
      "source": [],
      "metadata": {
        "id": "m00EVEo90vWP"
      },
      "execution_count": null,
      "outputs": []
    },
    {
      "cell_type": "markdown",
      "source": [
        "### **Завдання 4: Зменшення розмiрностi**\n"
      ],
      "metadata": {
        "id": "i_80NEYB0wS6"
      }
    },
    {
      "cell_type": "markdown",
      "source": [
        "1. Пiдготовка PCA\n",
        "- Запустiть PCA на наборi даних:\n",
        "`pcaMod <- princomp(data, fix_sign = TRUE)`\n",
        "- Отримайте та iнтерпретуйте PCA: `summary(pcaMod)`\n",
        "- Створiть plot дисперсiй кожного компонента `plot(pcaMod, type = \"l\")`"
      ],
      "metadata": {
        "id": "DEge1CnI0xsK"
      }
    },
    {
      "cell_type": "markdown",
      "source": [
        "2. Звiзуалiзуйте PCA:\n",
        "- Створiть biplot, щоб проаналiзувати, як змiннi впливають на основнi компоненти.\n",
        "`biplot(pcaMod, cex = 0.75)`\n",
        "- Стандартизуйте набiр даних i порiвняйте результати.\n",
        "```\n",
        "pcaModStd <- princomp(x = data, cor = TRUE, fix_sign = TRUE)\n",
        "summary(pcaModStd)\n",
        "biplot(pcaModStd, cex = 0.75)\n",
        "```\n"
      ],
      "metadata": {
        "id": "rRfsOJSv1ZoZ"
      }
    },
    {
      "cell_type": "markdown",
      "source": [
        "3. Iнтерпретацiя Principal Components\n",
        "- Визначте, якi змiннi найбiльше впливають на першi два основнi компоненти.\n",
        "- Порiвняйте результати PCA до i пiсля стандартизацiї.\n",
        "- Пояснiть, чи допомагає зменшення розмiрностi iз цим набором даних."
      ],
      "metadata": {
        "id": "uAJuiBXq1yzj"
      }
    },
    {
      "cell_type": "markdown",
      "source": [
        "4. Прогнозування за допомогою PCA компонент\n",
        "- Створiть новий набiр даних newData iз значеннями головних компонентiв.\n",
        "- Використовуйте predict(), щоб прогнозувати за допомогою PCA:\n",
        "```\n",
        "new <- data.frame(\"Comp\" = newData)\n",
        "predict(modPCABIC, newdata = new, interval = \"prediction\")\n",
        "```\n",
        "- Оцiнiть точнiсть прогнозiв i обговорiть можливi застосування у вашому випадку"
      ],
      "metadata": {
        "id": "2v-aF35b13Bn"
      }
    },
    {
      "cell_type": "markdown",
      "source": [
        "### **Conclusions**"
      ],
      "metadata": {
        "id": "s72feett2Fg9"
      }
    },
    {
      "cell_type": "markdown",
      "source": [
        "- Узагальнiть результати вибору моделi.\n",
        "- Обговорiть вплив полiномiв та взаємодiї у моделях.\n",
        "- Оцiнити ефективнiсть дiагностики в забезпеченнi валiдностi моделi.\n",
        "- Надайте рекомендацiї щодо майбутнiх пiдходiв до моделювання.\n"
      ],
      "metadata": {
        "id": "nlBS1XbI2JeC"
      }
    },
    {
      "cell_type": "code",
      "source": [],
      "metadata": {
        "id": "OuE8wjZP1s9W"
      },
      "execution_count": null,
      "outputs": []
    }
  ]
}